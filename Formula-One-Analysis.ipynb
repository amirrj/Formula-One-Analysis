{
 "cells": [
  {
   "cell_type": "markdown",
   "id": "9c137854",
   "metadata": {},
   "source": [
    "# Formula One Analysis"
   ]
  },
  {
   "cell_type": "markdown",
   "id": "6c48378a",
   "metadata": {},
   "source": [
    "## Imports"
   ]
  },
  {
   "cell_type": "code",
   "execution_count": 2,
   "id": "edf67da5",
   "metadata": {},
   "outputs": [],
   "source": [
    "import pandas as pd\n",
    "import numpy as np\n",
    "import matplotlib.pyplot as plt\n",
    "import seaborn as sns\n",
    "import os"
   ]
  },
  {
   "cell_type": "markdown",
   "id": "2576d113",
   "metadata": {},
   "source": [
    "## Read In Data"
   ]
  },
  {
   "cell_type": "code",
   "execution_count": 7,
   "id": "8e4f6cba",
   "metadata": {},
   "outputs": [
    {
     "name": "stdout",
     "output_type": "stream",
     "text": [
      "GrandPrix_fastest-laps_details_1950_to_2022.csv\n",
      "GrandPrix_races_details_1950_to_2022.csv\n",
      "GrandPrix_drivers_details_1950_to_2022.csv\n"
     ]
    }
   ],
   "source": [
    "# show all csv files\n",
    "for f in os.listdir():\n",
    "    if 'csv' in f:\n",
    "        print(f)"
   ]
  },
  {
   "cell_type": "code",
   "execution_count": 10,
   "id": "1da2f0e9",
   "metadata": {},
   "outputs": [],
   "source": [
    "# read each csv file\n",
    "df_drivers = pd.read_csv('GrandPrix_drivers_details_1950_to_2022.csv', encoding='latin-1')\n",
    "df_races = pd.read_csv('GrandPrix_races_details_1950_to_2022.csv', encoding='latin-1')\n",
    "df_laps = pd.read_csv('GrandPrix_fastest-laps_details_1950_to_2022.csv', encoding='latin-1')"
   ]
  },
  {
   "cell_type": "markdown",
   "id": "e51a97ec",
   "metadata": {},
   "source": [
    "## Cleaning"
   ]
  },
  {
   "cell_type": "code",
   "execution_count": 12,
   "id": "8b6d3f19",
   "metadata": {},
   "outputs": [
    {
     "data": {
      "text/plain": [
       "Pos             0\n",
       "Driver          0\n",
       "Nationality     0\n",
       "Car            11\n",
       "PTS             0\n",
       "year            0\n",
       "dtype: int64"
      ]
     },
     "execution_count": 12,
     "metadata": {},
     "output_type": "execute_result"
    }
   ],
   "source": [
    "## check for missing data\n",
    "df_drivers.isnull().sum()"
   ]
  },
  {
   "cell_type": "code",
   "execution_count": 17,
   "id": "733bea2f",
   "metadata": {},
   "outputs": [
    {
     "data": {
      "text/html": [
       "<div>\n",
       "<style scoped>\n",
       "    .dataframe tbody tr th:only-of-type {\n",
       "        vertical-align: middle;\n",
       "    }\n",
       "\n",
       "    .dataframe tbody tr th {\n",
       "        vertical-align: top;\n",
       "    }\n",
       "\n",
       "    .dataframe thead th {\n",
       "        text-align: right;\n",
       "    }\n",
       "</style>\n",
       "<table border=\"1\" class=\"dataframe\">\n",
       "  <thead>\n",
       "    <tr style=\"text-align: right;\">\n",
       "      <th></th>\n",
       "      <th>Pos</th>\n",
       "      <th>Driver</th>\n",
       "      <th>Nationality</th>\n",
       "      <th>Car</th>\n",
       "      <th>PTS</th>\n",
       "      <th>year</th>\n",
       "    </tr>\n",
       "  </thead>\n",
       "  <tbody>\n",
       "    <tr>\n",
       "      <th>16</th>\n",
       "      <td>13</td>\n",
       "      <td>Dorino  Serafini SER</td>\n",
       "      <td>ITA</td>\n",
       "      <td>NaN</td>\n",
       "      <td>3.0</td>\n",
       "      <td>1950</td>\n",
       "    </tr>\n",
       "    <tr>\n",
       "      <th>17</th>\n",
       "      <td>13</td>\n",
       "      <td>Philippe  Etancelin ETA</td>\n",
       "      <td>FRA</td>\n",
       "      <td>NaN</td>\n",
       "      <td>3.0</td>\n",
       "      <td>1950</td>\n",
       "    </tr>\n",
       "    <tr>\n",
       "      <th>21</th>\n",
       "      <td>20</td>\n",
       "      <td>Eugene  Chaboud CHA</td>\n",
       "      <td>FRA</td>\n",
       "      <td>NaN</td>\n",
       "      <td>1.0</td>\n",
       "      <td>1950</td>\n",
       "    </tr>\n",
       "    <tr>\n",
       "      <th>35</th>\n",
       "      <td>12</td>\n",
       "      <td>Louis  Rosier ROS</td>\n",
       "      <td>FRA</td>\n",
       "      <td>NaN</td>\n",
       "      <td>3.0</td>\n",
       "      <td>1951</td>\n",
       "    </tr>\n",
       "    <tr>\n",
       "      <th>53</th>\n",
       "      <td>13</td>\n",
       "      <td>Ken  Wharton WHA</td>\n",
       "      <td>GBR</td>\n",
       "      <td>NaN</td>\n",
       "      <td>3.0</td>\n",
       "      <td>1952</td>\n",
       "    </tr>\n",
       "    <tr>\n",
       "      <th>309</th>\n",
       "      <td>18</td>\n",
       "      <td>Masten Gregory GRE</td>\n",
       "      <td>USA</td>\n",
       "      <td>NaN</td>\n",
       "      <td>0.0</td>\n",
       "      <td>1963</td>\n",
       "    </tr>\n",
       "    <tr>\n",
       "      <th>314</th>\n",
       "      <td>18</td>\n",
       "      <td>Mike Hailwood HAI</td>\n",
       "      <td>GBR</td>\n",
       "      <td>NaN</td>\n",
       "      <td>0.0</td>\n",
       "      <td>1963</td>\n",
       "    </tr>\n",
       "    <tr>\n",
       "      <th>446</th>\n",
       "      <td>13</td>\n",
       "      <td>Richard Attwood ATT</td>\n",
       "      <td>GBR</td>\n",
       "      <td>NaN</td>\n",
       "      <td>3.0</td>\n",
       "      <td>1969</td>\n",
       "    </tr>\n",
       "    <tr>\n",
       "      <th>478</th>\n",
       "      <td>2</td>\n",
       "      <td>Ronnie Peterson PET</td>\n",
       "      <td>SWE</td>\n",
       "      <td>NaN</td>\n",
       "      <td>33.0</td>\n",
       "      <td>1971</td>\n",
       "    </tr>\n",
       "    <tr>\n",
       "      <th>492</th>\n",
       "      <td>16</td>\n",
       "      <td>Mark Donohue DON</td>\n",
       "      <td>USA</td>\n",
       "      <td>NaN</td>\n",
       "      <td>4.0</td>\n",
       "      <td>1971</td>\n",
       "    </tr>\n",
       "    <tr>\n",
       "      <th>493</th>\n",
       "      <td>16</td>\n",
       "      <td>Henri Pescarolo PES</td>\n",
       "      <td>FRA</td>\n",
       "      <td>NaN</td>\n",
       "      <td>4.0</td>\n",
       "      <td>1971</td>\n",
       "    </tr>\n",
       "  </tbody>\n",
       "</table>\n",
       "</div>"
      ],
      "text/plain": [
       "    Pos                   Driver Nationality  Car   PTS  year\n",
       "16   13     Dorino  Serafini SER         ITA  NaN   3.0  1950\n",
       "17   13  Philippe  Etancelin ETA         FRA  NaN   3.0  1950\n",
       "21   20      Eugene  Chaboud CHA         FRA  NaN   1.0  1950\n",
       "35   12        Louis  Rosier ROS         FRA  NaN   3.0  1951\n",
       "53   13         Ken  Wharton WHA         GBR  NaN   3.0  1952\n",
       "309  18       Masten Gregory GRE         USA  NaN   0.0  1963\n",
       "314  18        Mike Hailwood HAI         GBR  NaN   0.0  1963\n",
       "446  13      Richard Attwood ATT         GBR  NaN   3.0  1969\n",
       "478   2      Ronnie Peterson PET         SWE  NaN  33.0  1971\n",
       "492  16         Mark Donohue DON         USA  NaN   4.0  1971\n",
       "493  16      Henri Pescarolo PES         FRA  NaN   4.0  1971"
      ]
     },
     "execution_count": 17,
     "metadata": {},
     "output_type": "execute_result"
    }
   ],
   "source": [
    "df_drivers[df_drivers['Car'].isnull()]"
   ]
  },
  {
   "cell_type": "code",
   "execution_count": 37,
   "id": "94528abd",
   "metadata": {},
   "outputs": [],
   "source": [
    "## Manually fill in missing values\n",
    "df_drivers.at[16, 'Car'] = 'Ferrari'\n",
    "df_drivers.at[17, 'Car'] = 'Talbot-Lago'\n",
    "df_drivers.at[21, 'Car'] = 'Talbot-Lago'\n",
    "df_drivers.at[35, 'Car'] = 'Talbot-Lago'\n",
    "df_drivers.at[53, 'Car'] = 'Frazer Nash'\n",
    "df_drivers.at[309, 'Car'] = 'Lotus BRM'\n",
    "df_drivers.at[314, 'Car'] = 'Lotus Climax'\n",
    "df_drivers.at[446, 'Car'] = 'Lotus Ford'\n",
    "df_drivers.at[478, 'Car'] = 'March Ford'\n",
    "df_drivers.at[492, 'Car'] = 'Mclaren Ford'\n",
    "df_drivers.at[493, 'Car'] = 'March Ford'"
   ]
  },
  {
   "cell_type": "code",
   "execution_count": 38,
   "id": "6cd95862",
   "metadata": {},
   "outputs": [
    {
     "data": {
      "text/html": [
       "<div>\n",
       "<style scoped>\n",
       "    .dataframe tbody tr th:only-of-type {\n",
       "        vertical-align: middle;\n",
       "    }\n",
       "\n",
       "    .dataframe tbody tr th {\n",
       "        vertical-align: top;\n",
       "    }\n",
       "\n",
       "    .dataframe thead th {\n",
       "        text-align: right;\n",
       "    }\n",
       "</style>\n",
       "<table border=\"1\" class=\"dataframe\">\n",
       "  <thead>\n",
       "    <tr style=\"text-align: right;\">\n",
       "      <th></th>\n",
       "      <th>Pos</th>\n",
       "      <th>Driver</th>\n",
       "      <th>Nationality</th>\n",
       "      <th>Car</th>\n",
       "      <th>PTS</th>\n",
       "      <th>year</th>\n",
       "    </tr>\n",
       "  </thead>\n",
       "  <tbody>\n",
       "  </tbody>\n",
       "</table>\n",
       "</div>"
      ],
      "text/plain": [
       "Empty DataFrame\n",
       "Columns: [Pos, Driver, Nationality, Car, PTS, year]\n",
       "Index: []"
      ]
     },
     "execution_count": 38,
     "metadata": {},
     "output_type": "execute_result"
    }
   ],
   "source": [
    "df_drivers[df_drivers['Car'].isnull()]"
   ]
  },
  {
   "cell_type": "code",
   "execution_count": 13,
   "id": "580e987c",
   "metadata": {},
   "outputs": [
    {
     "data": {
      "text/plain": [
       "Grand Prix    0\n",
       "Date          0\n",
       "Winner        0\n",
       "Car           0\n",
       "Laps          3\n",
       "Time          0\n",
       "year          3\n",
       "dtype: int64"
      ]
     },
     "execution_count": 13,
     "metadata": {},
     "output_type": "execute_result"
    }
   ],
   "source": [
    "## check for missing data\n",
    "df_races.isnull().sum()"
   ]
  },
  {
   "cell_type": "code",
   "execution_count": 14,
   "id": "0293ed9a",
   "metadata": {},
   "outputs": [
    {
     "data": {
      "text/plain": [
       "Grand Prix    0\n",
       "Driver        0\n",
       "Car           0\n",
       "Time          0\n",
       "year          1\n",
       "dtype: int64"
      ]
     },
     "execution_count": 14,
     "metadata": {},
     "output_type": "execute_result"
    }
   ],
   "source": [
    "## check for missing data\n",
    "df_laps.isnull().sum()"
   ]
  },
  {
   "cell_type": "code",
   "execution_count": null,
   "id": "bb8f9884",
   "metadata": {},
   "outputs": [],
   "source": []
  }
 ],
 "metadata": {
  "kernelspec": {
   "display_name": "Python 3 (ipykernel)",
   "language": "python",
   "name": "python3"
  },
  "language_info": {
   "codemirror_mode": {
    "name": "ipython",
    "version": 3
   },
   "file_extension": ".py",
   "mimetype": "text/x-python",
   "name": "python",
   "nbconvert_exporter": "python",
   "pygments_lexer": "ipython3",
   "version": "3.10.7"
  }
 },
 "nbformat": 4,
 "nbformat_minor": 5
}
